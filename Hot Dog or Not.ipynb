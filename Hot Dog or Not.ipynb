{
 "cells": [
  {
   "cell_type": "markdown",
   "metadata": {},
   "source": [
    "dataset : https://www.kaggle.com/dansbecker/hot-dog-not-hot-dog/data\n",
    "\n",
    "loading the dataset uses ImageDataGenerator : https://keras.io/preprocessing/image/\n",
    "\n",
    "1. Training the algorithm on these files and predicting the labels (1 = not_hot_dog, 0 = hot_dog).\n",
    "2. Deploying the model (TIP: use heroku) ! The user must have the possibility to upload a photo to test the model."
   ]
  },
  {
   "cell_type": "markdown",
   "metadata": {},
   "source": [
    "# 0. Packages"
   ]
  },
  {
   "cell_type": "code",
   "execution_count": 1,
   "metadata": {},
   "outputs": [],
   "source": [
    "import numpy as np\n",
    "import pandas as pd\n",
    "from tensorflow import keras\n",
    "from tensorflow.keras import layers\n",
    "from tensorflow.keras.preprocessing.image import ImageDataGenerator, load_img\n",
    "from tensorflow.keras.utils import to_categorical\n",
    "from sklearn.model_selection import train_test_split\n",
    "import matplotlib.pyplot as plt\n",
    "import random\n",
    "import os"
   ]
  },
  {
   "cell_type": "code",
   "execution_count": 2,
   "metadata": {},
   "outputs": [],
   "source": [
    "# initial constants\n",
    "\n",
    "FAST_RUN = False\n",
    "IMAGE_WIDTH=128\n",
    "IMAGE_HEIGHT=128\n",
    "IMAGE_SIZE=(IMAGE_WIDTH, IMAGE_HEIGHT)\n",
    "IMAGE_CHANNELS=3"
   ]
  },
  {
   "cell_type": "markdown",
   "metadata": {},
   "source": [
    "# 1. Loading Data"
   ]
  },
  {
   "cell_type": "code",
   "execution_count": 15,
   "metadata": {},
   "outputs": [
    {
     "data": {
      "text/plain": [
       "<AxesSubplot:>"
      ]
     },
     "execution_count": 15,
     "metadata": {},
     "output_type": "execute_result"
    },
    {
     "data": {
      "image/png": "[encoded data removed]",
      "text/plain": [
       "<Figure size 432x288 with 1 Axes>"
      ]
     },
     "metadata": {
      "needs_background": "light"
     },
     "output_type": "display_data"
    }
   ],
   "source": [
    "ext_data_path = \"/media/seppe/DiskSpaceInvader/hot_dog_or_not\"\n",
    "\n",
    "train_path = os.path.join(ext_data_path, \"train\")\n",
    "hot_dogs = os.path.join(train_path, \"hot_dog\")\n",
    "not_hot_dogs = os.path.join(train_path, \"not_hot_dog\")\n",
    "\n",
    "# test_path = os.path.join(ext_data_path, \"test\")\n",
    "\n",
    "hot_dog_filenames = os.listdir(hot_dogs)\n",
    "not_hot_dog_filenames = os.listdir(not_hot_dogs)\n",
    "\n",
    "filenames = [f'hot_dog/{i}' for i in hot_dog_filenames] + [f'not_hot_dog/{i}' for i in not_hot_dog_filenames]\n",
    "categories = ['hot_dog' for i in hot_dog_filenames] + ['not_hot_dog' for i in not_hot_dog_filenames]\n",
    "\n",
    "df = pd.DataFrame({\n",
    "    'filename': filenames,\n",
    "    'category': categories\n",
    "})\n",
    "\n",
    "df.size\n",
    "df['category'].value_counts().plot.bar()"
   ]
  },
  {
   "cell_type": "markdown",
   "metadata": {},
   "source": [
    "# 2. Building model\n",
    "\n",
    "\n",
    "\n",
    "- <b>Input Layer</b>: represents input image data. It will reshape image into single diminsion array. For example, if your image is 64x64 = 4096, it will convert to a (4096,1) array.\n",
    "- <b>Conv Layer</b>: This layer will extract features from image.\n",
    "- <b>Pooling Layer</b>: This layer reduces the spatial volume of input image after convolution.\n",
    "- <b>Fully Connected Layer</b>: Connects the network from a layer to another layer.\n",
    "- <b>Output Layer</b>: The predicted values layer."
   ]
  },
  {
   "cell_type": "code",
   "execution_count": 16,
   "metadata": {},
   "outputs": [
    {
     "name": "stdout",
     "output_type": "stream",
     "text": [
      "Model: \"sequential_2\"\n",
      "_________________________________________________________________\n",
      "Layer (type)                 Output Shape              Param #   \n",
      "=================================================================\n",
      "conv2d_4 (Conv2D)            (None, 126, 126, 32)      896       \n",
      "_________________________________________________________________\n",
      "batch_normalization_6 (Batch (None, 126, 126, 32)      128       \n",
      "_________________________________________________________________\n",
      "max_pooling2d_4 (MaxPooling2 (None, 63, 63, 32)        0         \n",
      "_________________________________________________________________\n",
      "dropout_6 (Dropout)          (None, 63, 63, 32)        0         \n",
      "_________________________________________________________________\n",
      "conv2d_5 (Conv2D)            (None, 61, 61, 64)        18496     \n",
      "_________________________________________________________________\n",
      "batch_normalization_7 (Batch (None, 61, 61, 64)        256       \n",
      "_________________________________________________________________\n",
      "max_pooling2d_5 (MaxPooling2 (None, 30, 30, 64)        0         \n",
      "_________________________________________________________________\n",
      "dropout_7 (Dropout)          (None, 30, 30, 64)        0         \n",
      "_________________________________________________________________\n",
      "flatten_2 (Flatten)          (None, 57600)             0         \n",
      "_________________________________________________________________\n",
      "dense_4 (Dense)              (None, 64)                3686464   \n",
      "_________________________________________________________________\n",
      "batch_normalization_8 (Batch (None, 64)                256       \n",
      "_________________________________________________________________\n",
      "dropout_8 (Dropout)          (None, 64)                0         \n",
      "_________________________________________________________________\n",
      "dense_5 (Dense)              (None, 2)                 130       \n",
      "=================================================================\n",
      "Total params: 3,706,626\n",
      "Trainable params: 3,706,306\n",
      "Non-trainable params: 320\n",
      "_________________________________________________________________\n"
     ]
    }
   ],
   "source": [
    "from tensorflow.keras.models import Sequential\n",
    "from tensorflow.keras.layers import Conv2D, MaxPooling2D, Dropout, Flatten, Dense, Activation, BatchNormalization\n",
    "\n",
    "model = Sequential()\n",
    "\n",
    "model.add(Conv2D(32, (3, 3), activation='relu', input_shape=(IMAGE_WIDTH, IMAGE_HEIGHT, IMAGE_CHANNELS)))\n",
    "model.add(BatchNormalization())\n",
    "model.add(MaxPooling2D(pool_size=(2, 2)))\n",
    "model.add(Dropout(0.25))\n",
    "\n",
    "model.add(Conv2D(64, (3, 3), activation='relu'))\n",
    "model.add(BatchNormalization())\n",
    "model.add(MaxPooling2D(pool_size=(2, 2)))\n",
    "model.add(Dropout(0.25))\n",
    "\n",
    "model.add(Flatten())\n",
    "model.add(Dense(64, activation='relu'))\n",
    "model.add(BatchNormalization())\n",
    "model.add(Dropout(0.5))\n",
    "model.add(Dense(2, activation='softmax')) # 2 because we have cat and dog classes\n",
    "\n",
    "model.compile(loss='categorical_crossentropy', optimizer='adam', metrics=['accuracy'])\n",
    "\n",
    "model.summary()"
   ]
  },
  {
   "cell_type": "markdown",
   "metadata": {},
   "source": [
    "# 3. Training the model"
   ]
  },
  {
   "cell_type": "code",
   "execution_count": 17,
   "metadata": {},
   "outputs": [
    {
     "name": "stdout",
     "output_type": "stream",
     "text": [
      "<class 'pandas.core.frame.DataFrame'>\n",
      "RangeIndex: 398 entries, 0 to 397\n",
      "Data columns (total 2 columns):\n",
      " #   Column    Non-Null Count  Dtype \n",
      "---  ------    --------------  ----- \n",
      " 0   filename  398 non-null    object\n",
      " 1   category  398 non-null    object\n",
      "dtypes: object(2)\n",
      "memory usage: 6.3+ KB\n",
      "None\n",
      "                 filename     category\n",
      "0     hot_dog/1195698.jpg      hot_dog\n",
      "1      hot_dog/930181.jpg      hot_dog\n",
      "2  not_hot_dog/124128.jpg  not_hot_dog\n",
      "3   not_hot_dog/96357.jpg  not_hot_dog\n",
      "4      hot_dog/910098.jpg      hot_dog\n"
     ]
    }
   ],
   "source": [
    "train_df, validate_df = train_test_split(df, test_size=0.20, random_state=42)\n",
    "train_df = train_df.reset_index(drop=True)\n",
    "validate_df = validate_df.reset_index(drop=True)\n",
    "batch_size = 15\n",
    "print(train_df.info())\n",
    "print(train_df.head())\n",
    "\n",
    "total_train = train_df.shape[0]\n",
    "total_validate = validate_df.shape[0]"
   ]
  },
  {
   "cell_type": "code",
   "execution_count": 18,
   "metadata": {},
   "outputs": [
    {
     "name": "stdout",
     "output_type": "stream",
     "text": [
      "Found 398 validated image filenames belonging to 2 classes.\n"
     ]
    }
   ],
   "source": [
    "train_datagen = ImageDataGenerator(\n",
    "    rotation_range=15,\n",
    "    rescale=1./255,\n",
    "    shear_range=0.1,\n",
    "    zoom_range=0.2,\n",
    "    horizontal_flip=True,\n",
    "    width_shift_range=0.1,\n",
    "    height_shift_range=0.1\n",
    ")\n",
    "\n",
    "train_generator = train_datagen.flow_from_dataframe(\n",
    "    train_df, \n",
    "    train_path, \n",
    "    x_col='filename',\n",
    "    y_col='category',\n",
    "    target_size=IMAGE_SIZE,\n",
    "    class_mode='categorical',\n",
    "    batch_size=batch_size\n",
    ")"
   ]
  },
  {
   "cell_type": "code",
   "execution_count": 19,
   "metadata": {},
   "outputs": [
    {
     "name": "stdout",
     "output_type": "stream",
     "text": [
      "Found 100 validated image filenames belonging to 2 classes.\n"
     ]
    }
   ],
   "source": [
    "validation_datagen = ImageDataGenerator(rescale=1./255)\n",
    "validation_generator = validation_datagen.flow_from_dataframe(\n",
    "    validate_df, \n",
    "    train_path, \n",
    "    x_col='filename',\n",
    "    y_col='category',\n",
    "    target_size=IMAGE_SIZE,\n",
    "    class_mode='categorical',\n",
    "    batch_size=batch_size\n",
    ")\n"
   ]
  },
  {
   "cell_type": "code",
   "execution_count": 20,
   "metadata": {},
   "outputs": [],
   "source": [
    "from tensorflow.keras.callbacks import EarlyStopping, ReduceLROnPlateau\n",
    "\n",
    "\n",
    "earlystop = EarlyStopping(patience=10)\n",
    "learning_rate_reduction = ReduceLROnPlateau(monitor='val_accuracy', \n",
    "                                            patience=2, \n",
    "                                            verbose=1, \n",
    "                                            factor=0.5, \n",
    "                                            min_lr=0.00001)\n",
    "callbacks = [earlystop, learning_rate_reduction]"
   ]
  },
  {
   "cell_type": "code",
   "execution_count": 24,
   "metadata": {},
   "outputs": [
    {
     "name": "stdout",
     "output_type": "stream",
     "text": [
      "Epoch 1/30\n",
      "26/26 [==============================] - 10s 376ms/step - loss: 0.7593 - accuracy: 0.6214 - val_loss: 2.6732 - val_accuracy: 0.5000\n",
      "Epoch 2/30\n",
      "26/26 [==============================] - 10s 381ms/step - loss: 0.7280 - accuracy: 0.6736 - val_loss: 2.7395 - val_accuracy: 0.4778\n",
      "Epoch 3/30\n",
      "26/26 [==============================] - ETA: 0s - loss: 0.7459 - accuracy: 0.6580\n",
      "Epoch 00003: ReduceLROnPlateau reducing learning rate to 3.125000148429535e-05.\n",
      "26/26 [==============================] - 9s 359ms/step - loss: 0.7459 - accuracy: 0.6580 - val_loss: 2.6410 - val_accuracy: 0.5000\n",
      "Epoch 4/30\n",
      "26/26 [==============================] - 9s 360ms/step - loss: 0.7927 - accuracy: 0.6319 - val_loss: 2.3823 - val_accuracy: 0.5222\n",
      "Epoch 5/30\n",
      "26/26 [==============================] - 9s 363ms/step - loss: 0.7369 - accuracy: 0.6475 - val_loss: 2.0499 - val_accuracy: 0.5444\n",
      "Epoch 6/30\n",
      "26/26 [==============================] - 10s 393ms/step - loss: 0.7591 - accuracy: 0.6162 - val_loss: 2.1521 - val_accuracy: 0.5333\n",
      "Epoch 7/30\n",
      "26/26 [==============================] - ETA: 0s - loss: 0.6844 - accuracy: 0.6632\n",
      "Epoch 00007: ReduceLROnPlateau reducing learning rate to 1.5625000742147677e-05.\n",
      "26/26 [==============================] - 10s 373ms/step - loss: 0.6844 - accuracy: 0.6632 - val_loss: 2.0025 - val_accuracy: 0.5444\n",
      "Epoch 8/30\n",
      "26/26 [==============================] - 9s 356ms/step - loss: 0.7300 - accuracy: 0.6867 - val_loss: 1.8426 - val_accuracy: 0.6111\n",
      "Epoch 9/30\n",
      "26/26 [==============================] - 9s 354ms/step - loss: 0.7715 - accuracy: 0.6606 - val_loss: 1.8483 - val_accuracy: 0.6111\n",
      "Epoch 10/30\n",
      "26/26 [==============================] - 10s 368ms/step - loss: 0.7329 - accuracy: 0.6710 - val_loss: 1.6048 - val_accuracy: 0.6222\n",
      "Epoch 11/30\n",
      "26/26 [==============================] - 9s 347ms/step - loss: 0.6656 - accuracy: 0.6423 - val_loss: 1.3901 - val_accuracy: 0.6222\n",
      "Epoch 12/30\n",
      "26/26 [==============================] - 9s 350ms/step - loss: 0.7766 - accuracy: 0.6501 - val_loss: 1.2887 - val_accuracy: 0.6333\n",
      "Epoch 13/30\n",
      "26/26 [==============================] - 9s 353ms/step - loss: 0.6715 - accuracy: 0.6762 - val_loss: 1.2866 - val_accuracy: 0.5889\n",
      "Epoch 14/30\n",
      "26/26 [==============================] - ETA: 0s - loss: 0.7441 - accuracy: 0.6397\n",
      "Epoch 00014: ReduceLROnPlateau reducing learning rate to 1e-05.\n",
      "26/26 [==============================] - 9s 362ms/step - loss: 0.7441 - accuracy: 0.6397 - val_loss: 1.1389 - val_accuracy: 0.6111\n",
      "Epoch 15/30\n",
      "26/26 [==============================] - 9s 352ms/step - loss: 0.6570 - accuracy: 0.6893 - val_loss: 1.1118 - val_accuracy: 0.6111\n",
      "Epoch 16/30\n",
      "26/26 [==============================] - 9s 354ms/step - loss: 0.6568 - accuracy: 0.6423 - val_loss: 1.0797 - val_accuracy: 0.5778\n",
      "Epoch 17/30\n",
      "26/26 [==============================] - 9s 358ms/step - loss: 0.6969 - accuracy: 0.6736 - val_loss: 0.9259 - val_accuracy: 0.6111\n",
      "Epoch 18/30\n",
      "26/26 [==============================] - 9s 360ms/step - loss: 0.7504 - accuracy: 0.6475 - val_loss: 1.0061 - val_accuracy: 0.6000\n",
      "Epoch 19/30\n",
      "26/26 [==============================] - 10s 370ms/step - loss: 0.7066 - accuracy: 0.6658 - val_loss: 0.9878 - val_accuracy: 0.6333\n",
      "Epoch 20/30\n",
      "26/26 [==============================] - 9s 364ms/step - loss: 0.7170 - accuracy: 0.6527 - val_loss: 0.8484 - val_accuracy: 0.6556\n",
      "Epoch 21/30\n",
      "26/26 [==============================] - 9s 357ms/step - loss: 0.7404 - accuracy: 0.6606 - val_loss: 0.9795 - val_accuracy: 0.6222\n",
      "Epoch 22/30\n",
      "26/26 [==============================] - 9s 363ms/step - loss: 0.7226 - accuracy: 0.6475 - val_loss: 0.9617 - val_accuracy: 0.6222\n",
      "Epoch 23/30\n",
      "26/26 [==============================] - 9s 354ms/step - loss: 0.7483 - accuracy: 0.6240 - val_loss: 0.9696 - val_accuracy: 0.6222\n",
      "Epoch 24/30\n",
      "26/26 [==============================] - 9s 350ms/step - loss: 0.6505 - accuracy: 0.6554 - val_loss: 0.9358 - val_accuracy: 0.6111\n",
      "Epoch 25/30\n",
      "26/26 [==============================] - 9s 364ms/step - loss: 0.6619 - accuracy: 0.6997 - val_loss: 1.0057 - val_accuracy: 0.5889\n",
      "Epoch 26/30\n",
      "26/26 [==============================] - 9s 358ms/step - loss: 0.7144 - accuracy: 0.6449 - val_loss: 0.9554 - val_accuracy: 0.5889\n",
      "Epoch 27/30\n",
      "26/26 [==============================] - 10s 369ms/step - loss: 0.6875 - accuracy: 0.6867 - val_loss: 0.9124 - val_accuracy: 0.6111\n",
      "Epoch 28/30\n",
      "26/26 [==============================] - 9s 351ms/step - loss: 0.7343 - accuracy: 0.6789 - val_loss: 0.8640 - val_accuracy: 0.6556\n",
      "Epoch 29/30\n",
      "26/26 [==============================] - 9s 334ms/step - loss: 0.7567 - accuracy: 0.6292 - val_loss: 0.9087 - val_accuracy: 0.6222\n",
      "Epoch 30/30\n",
      "26/26 [==============================] - 9s 337ms/step - loss: 0.7409 - accuracy: 0.6308 - val_loss: 0.9434 - val_accuracy: 0.6111\n"
     ]
    }
   ],
   "source": [
    "epochs = 30\n",
    "history = model.fit_generator(\n",
    "    train_generator, \n",
    "    epochs=epochs,\n",
    "    validation_data=validation_generator,\n",
    "    validation_steps=total_validate//batch_size,\n",
    "    steps_per_epoch=total_train//batch_size,\n",
    "    callbacks=callbacks\n",
    ")"
   ]
  },
  {
   "cell_type": "code",
   "execution_count": 31,
   "metadata": {},
   "outputs": [
    {
     "data": {
      "image/png": "[encoded data removed]",
      "text/plain": [
       "<Figure size 864x864 with 2 Axes>"
      ]
     },
     "metadata": {
      "needs_background": "light"
     },
     "output_type": "display_data"
    }
   ],
   "source": [
    "# saving the model\n",
    "\n",
    "model.save_weights(\"hot_dog_model.h5\")\n",
    "\n",
    "fig, (ax1, ax2) = plt.subplots(2, 1, figsize=(12, 12))\n",
    "\n",
    "ax1.plot(history.history['loss'], color='b', label=\"Training loss\")\n",
    "ax1.plot(history.history['val_loss'], color='r', label=\"validation loss\")\n",
    "ax1.set_xticks(np.arange(1, epochs, 1))\n",
    "ax1.set_yticks(np.arange(0, 3, 0.1))\n",
    "ax1.legend()\n",
    "\n",
    "ax2.plot(history.history['accuracy'], color='b', label=\"Training accuracy\")\n",
    "ax2.plot(history.history['val_accuracy'], color='r',label=\"Validation accuracy\")\n",
    "ax2.set_xticks(np.arange(1, epochs, 1))\n",
    "ax2.set_yticks(np.arange(0, 1, 0.1))\n",
    "ax2.legend()\n",
    "\n",
    "plt.tight_layout()\n",
    "plt.show()"
   ]
  },
  {
   "cell_type": "code",
   "execution_count": null,
   "metadata": {},
   "outputs": [],
   "source": []
  }
 ],
 "metadata": {
  "kernelspec": {
   "display_name": "Python 3",
   "language": "python",
   "name": "python3"
  },
  "language_info": {
   "codemirror_mode": {
    "name": "ipython",
    "version": 3
   },
   "file_extension": ".py",
   "mimetype": "text/x-python",
   "name": "python",
   "nbconvert_exporter": "python",
   "pygments_lexer": "ipython3",
   "version": "3.8.5"
  }
 },
 "nbformat": 4,
 "nbformat_minor": 4
}
