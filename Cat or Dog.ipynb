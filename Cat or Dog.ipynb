{
 "cells": [
  {
   "cell_type": "markdown",
   "metadata": {},
   "source": [
    "dataset : https://www.kaggle.com/c/dogs-vs-cats/data\n",
    "\n",
    "loading the dataset uses ImageDataGenerator : https://keras.io/preprocessing/image/\n",
    "\n",
    "1. Training the algorithm on these files and predicting the labels (1 = dog, 0 = cat).\n",
    "2. Deploying the model (TIP: use heroku) ! The user must have the possibility to upload a photo to test the model."
   ]
  },
  {
   "cell_type": "markdown",
   "metadata": {},
   "source": [
    "# 0. Packages"
   ]
  },
  {
   "cell_type": "code",
   "execution_count": 1,
   "metadata": {},
   "outputs": [],
   "source": [
    "import numpy as np\n",
    "import pandas as pd\n",
    "from tensorflow import keras\n",
    "from tensorflow.keras import layers\n",
    "from tensorflow.keras.preprocessing.image import ImageDataGenerator, load_img\n",
    "from tensorflow.keras.utils import to_categorical\n",
    "from sklearn.model_selection import train_test_split\n",
    "import matplotlib.pyplot as plt\n",
    "import random\n",
    "import os"
   ]
  },
  {
   "cell_type": "code",
   "execution_count": 2,
   "metadata": {},
   "outputs": [],
   "source": [
    "# initial constants\n",
    "\n",
    "FAST_RUN = False\n",
    "IMAGE_WIDTH=128\n",
    "IMAGE_HEIGHT=128\n",
    "IMAGE_SIZE=(IMAGE_WIDTH, IMAGE_HEIGHT)\n",
    "IMAGE_CHANNELS=3"
   ]
  },
  {
   "cell_type": "markdown",
   "metadata": {},
   "source": [
    "# 1. Loading Data"
   ]
  },
  {
   "cell_type": "code",
   "execution_count": 3,
   "metadata": {},
   "outputs": [],
   "source": [
    "# !kaggle competitions download -c dogs-vs-cats"
   ]
  },
  {
   "cell_type": "code",
   "execution_count": 4,
   "metadata": {},
   "outputs": [
    {
     "name": "stdout",
     "output_type": "stream",
     "text": [
      "['sampleSubmission.csv', 'test1', 'test1.zip', 'train', 'train.zip']\n"
     ]
    }
   ],
   "source": [
    "# due to the sheer size of these datasets, I moved them to an external hard drive\n",
    "\n",
    "ext_data_path = \"/media/seppe/DiskSpaceInvader/dogs-vs-cats\"\n",
    "print(os.listdir(ext_data_path))\n",
    "train_path = os.path.join(ext_data_path, \"train\")\n",
    "test_path = os.path.join(ext_data_path, \"test1\")"
   ]
  },
  {
   "cell_type": "code",
   "execution_count": 14,
   "metadata": {},
   "outputs": [],
   "source": [
    "filenames = os.listdir(train_path)\n",
    "categories = []\n",
    "for filename in filenames:\n",
    "    category = filename.split('.')[0]\n",
    "    if category == 'dog':\n",
    "        categories.append('dog')\n",
    "    else:\n",
    "        categories.append('cat')\n",
    "\n",
    "df = pd.DataFrame({\n",
    "    'filename': filenames,\n",
    "    'category': categories\n",
    "})"
   ]
  },
  {
   "cell_type": "code",
   "execution_count": 15,
   "metadata": {},
   "outputs": [
    {
     "data": {
      "text/plain": [
       "<AxesSubplot:>"
      ]
     },
     "execution_count": 15,
     "metadata": {},
     "output_type": "execute_result"
    },
    {
     "data": {
      "image/png": "[encoded data removed]",
      "text/plain": [
       "<Figure size 432x288 with 1 Axes>"
      ]
     },
     "metadata": {
      "needs_background": "light"
     },
     "output_type": "display_data"
    }
   ],
   "source": [
    "df.size\n",
    "df['category'].value_counts().plot.bar()"
   ]
  },
  {
   "cell_type": "markdown",
   "metadata": {},
   "source": [
    "# 2. Building model\n",
    "\n",
    "\n",
    "\n",
    "- <b>Input Layer</b>: represents input image data. It will reshape image into single diminsion array. For example, if your image is 64x64 = 4096, it will convert to a (4096,1) array.\n",
    "- <b>Conv Layer</b>: This layer will extract features from image.\n",
    "- <b>Pooling Layer</b>: This layer reduces the spatial volume of input image after convolution.\n",
    "- <b>Fully Connected Layer</b>: Connects the network from a layer to another layer.\n",
    "- <b>Output Layer</b>: The predicted values layer.\n",
    "\n"
   ]
  },
  {
   "cell_type": "code",
   "execution_count": 26,
   "metadata": {
    "scrolled": false
   },
   "outputs": [
    {
     "name": "stdout",
     "output_type": "stream",
     "text": [
      "Model: \"sequential_3\"\n",
      "_________________________________________________________________\n",
      "Layer (type)                 Output Shape              Param #   \n",
      "=================================================================\n",
      "conv2d_8 (Conv2D)            (None, 126, 126, 32)      896       \n",
      "_________________________________________________________________\n",
      "batch_normalization_11 (Batc (None, 126, 126, 32)      128       \n",
      "_________________________________________________________________\n",
      "max_pooling2d_8 (MaxPooling2 (None, 63, 63, 32)        0         \n",
      "_________________________________________________________________\n",
      "dropout_11 (Dropout)         (None, 63, 63, 32)        0         \n",
      "_________________________________________________________________\n",
      "conv2d_9 (Conv2D)            (None, 61, 61, 64)        18496     \n",
      "_________________________________________________________________\n",
      "batch_normalization_12 (Batc (None, 61, 61, 64)        256       \n",
      "_________________________________________________________________\n",
      "max_pooling2d_9 (MaxPooling2 (None, 30, 30, 64)        0         \n",
      "_________________________________________________________________\n",
      "dropout_12 (Dropout)         (None, 30, 30, 64)        0         \n",
      "_________________________________________________________________\n",
      "flatten_3 (Flatten)          (None, 57600)             0         \n",
      "_________________________________________________________________\n",
      "dense_6 (Dense)              (None, 64)                3686464   \n",
      "_________________________________________________________________\n",
      "batch_normalization_13 (Batc (None, 64)                256       \n",
      "_________________________________________________________________\n",
      "dropout_13 (Dropout)         (None, 64)                0         \n",
      "_________________________________________________________________\n",
      "dense_7 (Dense)              (None, 2)                 130       \n",
      "=================================================================\n",
      "Total params: 3,706,626\n",
      "Trainable params: 3,706,306\n",
      "Non-trainable params: 320\n",
      "_________________________________________________________________\n"
     ]
    }
   ],
   "source": [
    "from tensorflow.keras.models import Sequential\n",
    "from tensorflow.keras.layers import Conv2D, MaxPooling2D, Dropout, Flatten, Dense, Activation, BatchNormalization\n",
    "\n",
    "model = Sequential()\n",
    "\n",
    "model.add(Conv2D(32, (3, 3), activation='relu', input_shape=(IMAGE_WIDTH, IMAGE_HEIGHT, IMAGE_CHANNELS)))\n",
    "model.add(BatchNormalization())\n",
    "model.add(MaxPooling2D(pool_size=(2, 2)))\n",
    "model.add(Dropout(0.25))\n",
    "\n",
    "model.add(Conv2D(64, (3, 3), activation='relu'))\n",
    "model.add(BatchNormalization())\n",
    "model.add(MaxPooling2D(pool_size=(2, 2)))\n",
    "model.add(Dropout(0.25))\n",
    "\n",
    "model.add(Flatten())\n",
    "model.add(Dense(64, activation='relu'))\n",
    "model.add(BatchNormalization())\n",
    "model.add(Dropout(0.5))\n",
    "model.add(Dense(2, activation='softmax')) # 2 because we have cat and dog classes\n",
    "\n",
    "model.compile(loss='categorical_crossentropy', optimizer='adam', metrics=['accuracy'])\n",
    "\n",
    "model.summary()"
   ]
  },
  {
   "cell_type": "markdown",
   "metadata": {},
   "source": [
    "# 3. Training the model"
   ]
  },
  {
   "cell_type": "code",
   "execution_count": 27,
   "metadata": {},
   "outputs": [
    {
     "name": "stdout",
     "output_type": "stream",
     "text": [
      "<class 'pandas.core.frame.DataFrame'>\n",
      "RangeIndex: 20000 entries, 0 to 19999\n",
      "Data columns (total 2 columns):\n",
      " #   Column    Non-Null Count  Dtype \n",
      "---  ------    --------------  ----- \n",
      " 0   filename  20000 non-null  object\n",
      " 1   category  20000 non-null  object\n",
      "dtypes: object(2)\n",
      "memory usage: 312.6+ KB\n"
     ]
    }
   ],
   "source": [
    "train_df, validate_df = train_test_split(df, test_size=0.20, random_state=42)\n",
    "train_df = train_df.reset_index(drop=True)\n",
    "validate_df = validate_df.reset_index(drop=True)\n",
    "batch_size = 15\n",
    "train_df.info()\n",
    "train_df.head()\n",
    "\n",
    "total_train = train_df.shape[0]\n",
    "total_validate = validate_df.shape[0]"
   ]
  },
  {
   "cell_type": "code",
   "execution_count": 28,
   "metadata": {},
   "outputs": [
    {
     "name": "stdout",
     "output_type": "stream",
     "text": [
      "Found 20000 validated image filenames belonging to 2 classes.\n"
     ]
    }
   ],
   "source": [
    "train_datagen = ImageDataGenerator(\n",
    "    rotation_range=15,\n",
    "    rescale=1./255,\n",
    "    shear_range=0.1,\n",
    "    zoom_range=0.2,\n",
    "    horizontal_flip=True,\n",
    "    width_shift_range=0.1,\n",
    "    height_shift_range=0.1\n",
    ")\n",
    "\n",
    "train_generator = train_datagen.flow_from_dataframe(\n",
    "    train_df, \n",
    "    train_path, \n",
    "    x_col='filename',\n",
    "    y_col='category',\n",
    "    target_size=IMAGE_SIZE,\n",
    "    class_mode='categorical',\n",
    "    batch_size=batch_size\n",
    ")"
   ]
  },
  {
   "cell_type": "code",
   "execution_count": 29,
   "metadata": {},
   "outputs": [
    {
     "name": "stdout",
     "output_type": "stream",
     "text": [
      "Found 5000 validated image filenames belonging to 2 classes.\n"
     ]
    }
   ],
   "source": [
    "validation_datagen = ImageDataGenerator(rescale=1./255)\n",
    "validation_generator = validation_datagen.flow_from_dataframe(\n",
    "    validate_df, \n",
    "    train_path, \n",
    "    x_col='filename',\n",
    "    y_col='category',\n",
    "    target_size=IMAGE_SIZE,\n",
    "    class_mode='categorical',\n",
    "    batch_size=batch_size\n",
    ")\n",
    "\n"
   ]
  },
  {
   "cell_type": "code",
   "execution_count": 30,
   "metadata": {},
   "outputs": [],
   "source": [
    "from tensorflow.keras.callbacks import EarlyStopping, ReduceLROnPlateau\n",
    "\n",
    "\n",
    "earlystop = EarlyStopping(patience=10)\n",
    "learning_rate_reduction = ReduceLROnPlateau(monitor='val_accuracy', \n",
    "                                            patience=2, \n",
    "                                            verbose=1, \n",
    "                                            factor=0.5, \n",
    "                                            min_lr=0.00001)\n",
    "callbacks = [earlystop, learning_rate_reduction]"
   ]
  },
  {
   "cell_type": "code",
   "execution_count": 31,
   "metadata": {},
   "outputs": [
    {
     "name": "stdout",
     "output_type": "stream",
     "text": [
      "Epoch 1/30\n",
      "1333/1333 [==============================] - 721s 541ms/step - loss: 0.7269 - accuracy: 0.6036 - val_loss: 0.7554 - val_accuracy: 0.5618\n",
      "Epoch 2/30\n",
      "1333/1333 [==============================] - 297s 223ms/step - loss: 0.5995 - accuracy: 0.6753 - val_loss: 0.5749 - val_accuracy: 0.6887\n",
      "Epoch 3/30\n",
      "1333/1333 [==============================] - 270s 202ms/step - loss: 0.5661 - accuracy: 0.7065 - val_loss: 0.5396 - val_accuracy: 0.7183\n",
      "Epoch 4/30\n",
      "1333/1333 [==============================] - 264s 198ms/step - loss: 0.5277 - accuracy: 0.7382 - val_loss: 0.4643 - val_accuracy: 0.7794\n",
      "Epoch 5/30\n",
      "1333/1333 [==============================] - 301s 226ms/step - loss: 0.5021 - accuracy: 0.7546 - val_loss: 0.8718 - val_accuracy: 0.7035\n",
      "Epoch 6/30\n",
      "1333/1333 [==============================] - 414s 310ms/step - loss: 0.4927 - accuracy: 0.7595 - val_loss: 0.4504 - val_accuracy: 0.7816\n",
      "Epoch 7/30\n",
      "1333/1333 [==============================] - 279s 209ms/step - loss: 0.4681 - accuracy: 0.7780 - val_loss: 0.4216 - val_accuracy: 0.8008\n",
      "Epoch 8/30\n",
      "1333/1333 [==============================] - 273s 205ms/step - loss: 0.4627 - accuracy: 0.7832 - val_loss: 0.4061 - val_accuracy: 0.8152\n",
      "Epoch 9/30\n",
      "1333/1333 [==============================] - 267s 200ms/step - loss: 0.4639 - accuracy: 0.7796 - val_loss: 0.4196 - val_accuracy: 0.8080\n",
      "Epoch 10/30\n",
      "1333/1333 [==============================] - ETA: 0s - loss: 0.4475 - accuracy: 0.7908\n",
      "Epoch 00010: ReduceLROnPlateau reducing learning rate to 0.0005000000237487257.\n",
      "1333/1333 [==============================] - 272s 204ms/step - loss: 0.4475 - accuracy: 0.7908 - val_loss: 1.0372 - val_accuracy: 0.6931\n",
      "Epoch 11/30\n",
      "1333/1333 [==============================] - 255s 191ms/step - loss: 0.4326 - accuracy: 0.7994 - val_loss: 0.3958 - val_accuracy: 0.8200\n",
      "Epoch 12/30\n",
      "1333/1333 [==============================] - 255s 191ms/step - loss: 0.4134 - accuracy: 0.8152 - val_loss: 0.4524 - val_accuracy: 0.8028\n",
      "Epoch 13/30\n",
      "1333/1333 [==============================] - 261s 196ms/step - loss: 0.4176 - accuracy: 0.8113 - val_loss: 0.3701 - val_accuracy: 0.8406\n",
      "Epoch 14/30\n",
      "1333/1333 [==============================] - 277s 208ms/step - loss: 0.4095 - accuracy: 0.8139 - val_loss: 0.3472 - val_accuracy: 0.8525\n",
      "Epoch 15/30\n",
      "1333/1333 [==============================] - 270s 202ms/step - loss: 0.4041 - accuracy: 0.8145 - val_loss: 0.5968 - val_accuracy: 0.7455\n",
      "Epoch 16/30\n",
      "1333/1333 [==============================] - ETA: 0s - loss: 0.4056 - accuracy: 0.8194\n",
      "Epoch 00016: ReduceLROnPlateau reducing learning rate to 0.0002500000118743628.\n",
      "1333/1333 [==============================] - 276s 207ms/step - loss: 0.4056 - accuracy: 0.8194 - val_loss: 0.3799 - val_accuracy: 0.8352\n",
      "Epoch 17/30\n",
      "1333/1333 [==============================] - 266s 199ms/step - loss: 0.3952 - accuracy: 0.8246 - val_loss: 0.3484 - val_accuracy: 0.8553\n",
      "Epoch 18/30\n",
      "1333/1333 [==============================] - 265s 199ms/step - loss: 0.3871 - accuracy: 0.8283 - val_loss: 0.3411 - val_accuracy: 0.8535\n",
      "Epoch 19/30\n",
      "1333/1333 [==============================] - ETA: 0s - loss: 0.3876 - accuracy: 0.8267\n",
      "Epoch 00019: ReduceLROnPlateau reducing learning rate to 0.0001250000059371814.\n",
      "1333/1333 [==============================] - 272s 204ms/step - loss: 0.3876 - accuracy: 0.8267 - val_loss: 0.3628 - val_accuracy: 0.8396\n",
      "Epoch 20/30\n",
      "1333/1333 [==============================] - 261s 196ms/step - loss: 0.3843 - accuracy: 0.8280 - val_loss: 0.3303 - val_accuracy: 0.8575\n",
      "Epoch 21/30\n",
      "1333/1333 [==============================] - 287s 215ms/step - loss: 0.3817 - accuracy: 0.8284 - val_loss: 0.3387 - val_accuracy: 0.8569\n",
      "Epoch 22/30\n",
      "1333/1333 [==============================] - 261s 195ms/step - loss: 0.3730 - accuracy: 0.8362 - val_loss: 0.3332 - val_accuracy: 0.8577\n",
      "Epoch 23/30\n",
      "1333/1333 [==============================] - 255s 191ms/step - loss: 0.3764 - accuracy: 0.8339 - val_loss: 0.3567 - val_accuracy: 0.8458\n",
      "Epoch 24/30\n",
      "1333/1333 [==============================] - ETA: 0s - loss: 0.3728 - accuracy: 0.8352\n",
      "Epoch 00024: ReduceLROnPlateau reducing learning rate to 6.25000029685907e-05.\n",
      "1333/1333 [==============================] - 256s 192ms/step - loss: 0.3728 - accuracy: 0.8352 - val_loss: 0.3620 - val_accuracy: 0.8418\n",
      "Epoch 25/30\n",
      "1333/1333 [==============================] - 255s 192ms/step - loss: 0.3707 - accuracy: 0.8373 - val_loss: 0.3479 - val_accuracy: 0.8480\n",
      "Epoch 26/30\n",
      "1333/1333 [==============================] - ETA: 0s - loss: 0.3605 - accuracy: 0.8422\n",
      "Epoch 00026: ReduceLROnPlateau reducing learning rate to 3.125000148429535e-05.\n",
      "1333/1333 [==============================] - 255s 192ms/step - loss: 0.3605 - accuracy: 0.8422 - val_loss: 0.3429 - val_accuracy: 0.8507\n",
      "Epoch 27/30\n",
      "1333/1333 [==============================] - 255s 191ms/step - loss: 0.3701 - accuracy: 0.8352 - val_loss: 0.3357 - val_accuracy: 0.8559\n",
      "Epoch 28/30\n",
      "1333/1333 [==============================] - ETA: 0s - loss: 0.3655 - accuracy: 0.8374\n",
      "Epoch 00028: ReduceLROnPlateau reducing learning rate to 1.5625000742147677e-05.\n",
      "1333/1333 [==============================] - 256s 192ms/step - loss: 0.3655 - accuracy: 0.8374 - val_loss: 0.3321 - val_accuracy: 0.8565\n",
      "Epoch 29/30\n",
      "1333/1333 [==============================] - 256s 192ms/step - loss: 0.3699 - accuracy: 0.8383 - val_loss: 0.3320 - val_accuracy: 0.8585\n",
      "Epoch 30/30\n",
      "1333/1333 [==============================] - 257s 193ms/step - loss: 0.3670 - accuracy: 0.8370 - val_loss: 0.3345 - val_accuracy: 0.8565\n"
     ]
    }
   ],
   "source": [
    "epochs = 30\n",
    "history = model.fit_generator(\n",
    "    train_generator, \n",
    "    epochs=epochs,\n",
    "    validation_data=validation_generator,\n",
    "    validation_steps=total_validate//batch_size,\n",
    "    steps_per_epoch=total_train//batch_size,\n",
    "    callbacks=callbacks\n",
    ")"
   ]
  },
  {
   "cell_type": "code",
   "execution_count": 32,
   "metadata": {},
   "outputs": [
    {
     "data": {
      "image/png": "[encoded data removed]",
      "text/plain": [
       "<Figure size 864x864 with 2 Axes>"
      ]
     },
     "metadata": {
      "needs_background": "light"
     },
     "output_type": "display_data"
    }
   ],
   "source": [
    "# saving the model\n",
    "\n",
    "model.save_weights(\"cat_dog_model.h5\")\n",
    "\n",
    "fig, (ax1, ax2) = plt.subplots(2, 1, figsize=(12, 12))\n",
    "ax1.plot(history.history['loss'], color='b', label=\"Training loss\")\n",
    "ax1.plot(history.history['val_loss'], color='r', label=\"validation loss\")\n",
    "ax1.set_xticks(np.arange(1, epochs, 1))\n",
    "ax1.set_yticks(np.arange(0, 1, 0.1))\n",
    "ax1.legend()\n",
    "\n",
    "ax2.plot(history.history['accuracy'], color='b', label=\"Training accuracy\")\n",
    "ax2.plot(history.history['val_accuracy'], color='r',label=\"Validation accuracy\")\n",
    "ax2.set_xticks(np.arange(1, epochs, 1))\n",
    "ax2.set_yticks(np.arange(0, 1, 0.1))\n",
    "ax2.legend()\n",
    "\n",
    "legend = plt.legend(loc='best', shadow=True)\n",
    "plt.tight_layout()\n",
    "plt.show()"
   ]
  },
  {
   "cell_type": "code",
   "execution_count": null,
   "metadata": {},
   "outputs": [],
   "source": []
  }
 ],
 "metadata": {
  "kernelspec": {
   "display_name": "Python 3",
   "language": "python",
   "name": "python3"
  },
  "language_info": {
   "codemirror_mode": {
    "name": "ipython",
    "version": 3
   },
   "file_extension": ".py",
   "mimetype": "text/x-python",
   "name": "python",
   "nbconvert_exporter": "python",
   "pygments_lexer": "ipython3",
   "version": "3.8.5"
  }
 },
 "nbformat": 4,
 "nbformat_minor": 4
}
